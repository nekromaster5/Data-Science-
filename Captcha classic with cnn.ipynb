{
 "cells": [
  {
   "cell_type": "code",
   "execution_count": 2,
   "id": "6cded0ac",
   "metadata": {},
   "outputs": [],
   "source": [
    "import tensorflow as tf\n",
    "from tensorflow.keras import layers\n",
    "from tensorflow.keras.models import Model\n",
    "from tensorflow.keras.callbacks import EarlyStopping\n",
    "import os\n",
    "import cv2\n",
    "import string\n",
    "import numpy as np"
   ]
  },
  {
   "cell_type": "code",
   "execution_count": 3,
   "id": "84b3b612",
   "metadata": {},
   "outputs": [],
   "source": [
    "# Initialize main values\n",
    "symbols = string.ascii_lowercase + \"0123456789\" # All symbols captcha can contain\n",
    "num_symbols = len(symbols)\n",
    "img_shape = (50, 200, 1)"
   ]
  },
  {
   "cell_type": "code",
   "execution_count": 4,
   "id": "56941173",
   "metadata": {},
   "outputs": [],
   "source": [
    "def create_model():\n",
    "    img = layers.Input(shape=img_shape) # Get image as an input and process it through some Convs\n",
    "    conv1 = layers.Conv2D(32, (3, 3), padding='same', activation='relu')(img)\n",
    "    mp1 = layers.MaxPooling2D(padding='same')(conv1)  # 100x25\n",
    "    conv2 = layers.Conv2D(64, (3, 3), padding='same', activation='relu')(mp1)\n",
    "    mp2 = layers.MaxPooling2D(padding='same')(conv2)  # 50x13\n",
    "    conv3 = layers.Conv2D(128, (3, 3), padding='same', activation='relu')(mp2)\n",
    "    bn = layers.BatchNormalization()(conv3)\n",
    "    mp3 = layers.MaxPooling2D(padding='same')(bn)  # 25x7\n",
    "    \n",
    "    # Get flattened vector and make 5 branches from it. Each branch will predict one letter\n",
    "    flat = layers.Flatten()(mp3)\n",
    "    outs = []\n",
    "    for _ in range(5):\n",
    "        dens1 = layers.Dense(256, activation='relu')(flat)\n",
    "        drop = layers.Dropout(0.5)(dens1)\n",
    "        res = layers.Dense(num_symbols, activation='softmax')(drop)\n",
    "\n",
    "        outs.append(res)\n",
    "    \n",
    "    # Compile model and return it\n",
    "    model = Model(img, outs)\n",
    "    model.compile(loss='categorical_crossentropy', optimizer='adam', metrics=[\"accuracy\"])\n",
    "    return model"
   ]
  },
  {
   "cell_type": "code",
   "execution_count": 21,
   "id": "a04573ab",
   "metadata": {},
   "outputs": [],
   "source": [
    "def preprocess_data():\n",
    "    n_samples = len(os.listdir('samples/samples'))\n",
    "    X = np.zeros((n_samples, 50, 200, 1)) #1070*50*200\n",
    "    y = np.zeros((5, n_samples, num_symbols)) #5*1070*36\n",
    "\n",
    "    for i, pic in enumerate(os.listdir('samples/samples')):\n",
    "        # Read image as grayscale\n",
    "        img = cv2.imread(os.path.join('samples/samples', pic), cv2.IMREAD_GRAYSCALE)\n",
    "        pic_target = pic[:-4]\n",
    "        if len(pic_target) < 6:\n",
    "            # Scale and reshape image\n",
    "            img = img / 255.0\n",
    "            img = np.reshape(img, (50, 200, 1))\n",
    "            # Define targets and code them using OneHotEncoding\n",
    "            targs = np.zeros((5, num_symbols))\n",
    "            for j, l in enumerate(pic_target):\n",
    "                ind = symbols.find(l)\n",
    "                targs[j, ind] = 1\n",
    "            X[i] = img\n",
    "            y[:, i] = targs\n",
    "    \n",
    "    # Return final data\n",
    "    return X, y"
   ]
  },
  {
   "cell_type": "code",
   "execution_count": 22,
   "id": "04ee20b4",
   "metadata": {},
   "outputs": [],
   "source": [
    "X, y = preprocess_data()\n",
    "X_train, y_train = X[:970], y[:, :970]\n",
    "X_test, y_test = X[970:], y[:, 970:]"
   ]
  },
  {
   "cell_type": "code",
   "execution_count": 23,
   "id": "93fe796d",
   "metadata": {},
   "outputs": [
    {
     "name": "stdout",
     "output_type": "stream",
     "text": [
      "Model: \"functional_1\"\n",
      "__________________________________________________________________________________________________\n",
      "Layer (type)                    Output Shape         Param #     Connected to                     \n",
      "==================================================================================================\n",
      "input_1 (InputLayer)            [(None, 50, 200, 1)] 0                                            \n",
      "__________________________________________________________________________________________________\n",
      "conv2d (Conv2D)                 (None, 50, 200, 32)  320         input_1[0][0]                    \n",
      "__________________________________________________________________________________________________\n",
      "max_pooling2d (MaxPooling2D)    (None, 25, 100, 32)  0           conv2d[0][0]                     \n",
      "__________________________________________________________________________________________________\n",
      "conv2d_1 (Conv2D)               (None, 25, 100, 64)  18496       max_pooling2d[0][0]              \n",
      "__________________________________________________________________________________________________\n",
      "max_pooling2d_1 (MaxPooling2D)  (None, 13, 50, 64)   0           conv2d_1[0][0]                   \n",
      "__________________________________________________________________________________________________\n",
      "conv2d_2 (Conv2D)               (None, 13, 50, 128)  73856       max_pooling2d_1[0][0]            \n",
      "__________________________________________________________________________________________________\n",
      "batch_normalization (BatchNorma (None, 13, 50, 128)  512         conv2d_2[0][0]                   \n",
      "__________________________________________________________________________________________________\n",
      "max_pooling2d_2 (MaxPooling2D)  (None, 7, 25, 128)   0           batch_normalization[0][0]        \n",
      "__________________________________________________________________________________________________\n",
      "flatten (Flatten)               (None, 22400)        0           max_pooling2d_2[0][0]            \n",
      "__________________________________________________________________________________________________\n",
      "dense (Dense)                   (None, 256)          5734656     flatten[0][0]                    \n",
      "__________________________________________________________________________________________________\n",
      "dense_2 (Dense)                 (None, 256)          5734656     flatten[0][0]                    \n",
      "__________________________________________________________________________________________________\n",
      "dense_4 (Dense)                 (None, 256)          5734656     flatten[0][0]                    \n",
      "__________________________________________________________________________________________________\n",
      "dense_6 (Dense)                 (None, 256)          5734656     flatten[0][0]                    \n",
      "__________________________________________________________________________________________________\n",
      "dense_8 (Dense)                 (None, 256)          5734656     flatten[0][0]                    \n",
      "__________________________________________________________________________________________________\n",
      "dropout (Dropout)               (None, 256)          0           dense[0][0]                      \n",
      "__________________________________________________________________________________________________\n",
      "dropout_1 (Dropout)             (None, 256)          0           dense_2[0][0]                    \n",
      "__________________________________________________________________________________________________\n",
      "dropout_2 (Dropout)             (None, 256)          0           dense_4[0][0]                    \n",
      "__________________________________________________________________________________________________\n",
      "dropout_3 (Dropout)             (None, 256)          0           dense_6[0][0]                    \n",
      "__________________________________________________________________________________________________\n",
      "dropout_4 (Dropout)             (None, 256)          0           dense_8[0][0]                    \n",
      "__________________________________________________________________________________________________\n",
      "dense_1 (Dense)                 (None, 36)           9252        dropout[0][0]                    \n",
      "__________________________________________________________________________________________________\n",
      "dense_3 (Dense)                 (None, 36)           9252        dropout_1[0][0]                  \n",
      "__________________________________________________________________________________________________\n",
      "dense_5 (Dense)                 (None, 36)           9252        dropout_2[0][0]                  \n",
      "__________________________________________________________________________________________________\n",
      "dense_7 (Dense)                 (None, 36)           9252        dropout_3[0][0]                  \n",
      "__________________________________________________________________________________________________\n",
      "dense_9 (Dense)                 (None, 36)           9252        dropout_4[0][0]                  \n",
      "==================================================================================================\n",
      "Total params: 28,812,724\n",
      "Trainable params: 28,812,468\n",
      "Non-trainable params: 256\n",
      "__________________________________________________________________________________________________\n"
     ]
    }
   ],
   "source": [
    "model = create_model()\n",
    "model.summary()"
   ]
  },
  {
   "cell_type": "code",
   "execution_count": 24,
   "id": "5a2b7905",
   "metadata": {},
   "outputs": [],
   "source": [
    "es = EarlyStopping(monitor='val_loss', mode='min', verbose=1, patience=10)"
   ]
  },
  {
   "cell_type": "code",
   "execution_count": 26,
   "id": "200fd5c8",
   "metadata": {},
   "outputs": [
    {
     "name": "stdout",
     "output_type": "stream",
     "text": [
      "Epoch 1/20\n",
      "25/25 [==============================] - 13s 505ms/step - loss: 0.5503 - dense_1_loss: 0.0333 - dense_3_loss: 0.0678 - dense_5_loss: 0.1133 - dense_7_loss: 0.1578 - dense_9_loss: 0.1781 - dense_1_accuracy: 0.9936 - dense_3_accuracy: 0.9704 - dense_5_accuracy: 0.9601 - dense_7_accuracy: 0.9575 - dense_9_accuracy: 0.9433 - val_loss: 9.1671 - val_dense_1_loss: 5.5658 - val_dense_3_loss: 0.6723 - val_dense_5_loss: 0.9258 - val_dense_7_loss: 1.0875 - val_dense_9_loss: 0.9157 - val_dense_1_accuracy: 0.0258 - val_dense_3_accuracy: 0.8866 - val_dense_5_accuracy: 0.8093 - val_dense_7_accuracy: 0.7990 - val_dense_9_accuracy: 0.8608\n",
      "Epoch 2/20\n",
      "25/25 [==============================] - 13s 505ms/step - loss: 0.5201 - dense_1_loss: 0.0254 - dense_3_loss: 0.0565 - dense_5_loss: 0.0958 - dense_7_loss: 0.1611 - dense_9_loss: 0.1812 - dense_1_accuracy: 0.9871 - dense_3_accuracy: 0.9807 - dense_5_accuracy: 0.9678 - dense_7_accuracy: 0.9459 - dense_9_accuracy: 0.9317 - val_loss: 8.8993 - val_dense_1_loss: 5.7567 - val_dense_3_loss: 0.5868 - val_dense_5_loss: 0.8009 - val_dense_7_loss: 0.9365 - val_dense_9_loss: 0.8184 - val_dense_1_accuracy: 0.0309 - val_dense_3_accuracy: 0.8763 - val_dense_5_accuracy: 0.8093 - val_dense_7_accuracy: 0.8196 - val_dense_9_accuracy: 0.8557\n",
      "Epoch 3/20\n",
      "25/25 [==============================] - 13s 514ms/step - loss: 0.5324 - dense_1_loss: 0.0426 - dense_3_loss: 0.0685 - dense_5_loss: 0.0816 - dense_7_loss: 0.1610 - dense_9_loss: 0.1787 - dense_1_accuracy: 0.9884 - dense_3_accuracy: 0.9768 - dense_5_accuracy: 0.9729 - dense_7_accuracy: 0.9510 - dense_9_accuracy: 0.9407 - val_loss: 9.0282 - val_dense_1_loss: 6.3392 - val_dense_3_loss: 0.5158 - val_dense_5_loss: 0.7001 - val_dense_7_loss: 0.8018 - val_dense_9_loss: 0.6714 - val_dense_1_accuracy: 0.0258 - val_dense_3_accuracy: 0.8866 - val_dense_5_accuracy: 0.7938 - val_dense_7_accuracy: 0.7938 - val_dense_9_accuracy: 0.8608\n",
      "Epoch 4/20\n",
      "25/25 [==============================] - 13s 507ms/step - loss: 0.4525 - dense_1_loss: 0.0248 - dense_3_loss: 0.0495 - dense_5_loss: 0.1040 - dense_7_loss: 0.1555 - dense_9_loss: 0.1187 - dense_1_accuracy: 0.9910 - dense_3_accuracy: 0.9845 - dense_5_accuracy: 0.9691 - dense_7_accuracy: 0.9562 - dense_9_accuracy: 0.9652 - val_loss: 9.8607 - val_dense_1_loss: 7.4210 - val_dense_3_loss: 0.4830 - val_dense_5_loss: 0.6431 - val_dense_7_loss: 0.7582 - val_dense_9_loss: 0.5553 - val_dense_1_accuracy: 0.0206 - val_dense_3_accuracy: 0.8814 - val_dense_5_accuracy: 0.8299 - val_dense_7_accuracy: 0.8247 - val_dense_9_accuracy: 0.8608\n",
      "Epoch 5/20\n",
      "25/25 [==============================] - 13s 512ms/step - loss: 0.4320 - dense_1_loss: 0.0237 - dense_3_loss: 0.0406 - dense_5_loss: 0.1046 - dense_7_loss: 0.1337 - dense_9_loss: 0.1294 - dense_1_accuracy: 0.9936 - dense_3_accuracy: 0.9884 - dense_5_accuracy: 0.9639 - dense_7_accuracy: 0.9639 - dense_9_accuracy: 0.9575 - val_loss: 10.5893 - val_dense_1_loss: 8.3879 - val_dense_3_loss: 0.4373 - val_dense_5_loss: 0.6108 - val_dense_7_loss: 0.6453 - val_dense_9_loss: 0.5080 - val_dense_1_accuracy: 0.0258 - val_dense_3_accuracy: 0.8814 - val_dense_5_accuracy: 0.8402 - val_dense_7_accuracy: 0.8196 - val_dense_9_accuracy: 0.8505\n",
      "Epoch 6/20\n",
      "25/25 [==============================] - 13s 505ms/step - loss: 0.3907 - dense_1_loss: 0.0240 - dense_3_loss: 0.0196 - dense_5_loss: 0.1202 - dense_7_loss: 0.1179 - dense_9_loss: 0.1091 - dense_1_accuracy: 0.9910 - dense_3_accuracy: 0.9987 - dense_5_accuracy: 0.9588 - dense_7_accuracy: 0.9704 - dense_9_accuracy: 0.9652 - val_loss: 13.0700 - val_dense_1_loss: 10.9018 - val_dense_3_loss: 0.4311 - val_dense_5_loss: 0.6457 - val_dense_7_loss: 0.6191 - val_dense_9_loss: 0.4722 - val_dense_1_accuracy: 0.0000e+00 - val_dense_3_accuracy: 0.8866 - val_dense_5_accuracy: 0.8093 - val_dense_7_accuracy: 0.8093 - val_dense_9_accuracy: 0.8660\n",
      "Epoch 7/20\n",
      "25/25 [==============================] - 12s 494ms/step - loss: 0.3700 - dense_1_loss: 0.0126 - dense_3_loss: 0.0477 - dense_5_loss: 0.0809 - dense_7_loss: 0.1281 - dense_9_loss: 0.1007 - dense_1_accuracy: 0.9974 - dense_3_accuracy: 0.9884 - dense_5_accuracy: 0.9665 - dense_7_accuracy: 0.9588 - dense_9_accuracy: 0.9626 - val_loss: 11.1446 - val_dense_1_loss: 9.0159 - val_dense_3_loss: 0.4474 - val_dense_5_loss: 0.5981 - val_dense_7_loss: 0.6397 - val_dense_9_loss: 0.4434 - val_dense_1_accuracy: 0.0464 - val_dense_3_accuracy: 0.8866 - val_dense_5_accuracy: 0.8299 - val_dense_7_accuracy: 0.8196 - val_dense_9_accuracy: 0.8557\n",
      "Epoch 8/20\n",
      "25/25 [==============================] - 13s 508ms/step - loss: 0.3495 - dense_1_loss: 0.0265 - dense_3_loss: 0.0395 - dense_5_loss: 0.0708 - dense_7_loss: 0.1130 - dense_9_loss: 0.0998 - dense_1_accuracy: 0.9897 - dense_3_accuracy: 0.9858 - dense_5_accuracy: 0.9755 - dense_7_accuracy: 0.9665 - dense_9_accuracy: 0.9704 - val_loss: 12.7175 - val_dense_1_loss: 10.6497 - val_dense_3_loss: 0.4840 - val_dense_5_loss: 0.5787 - val_dense_7_loss: 0.5736 - val_dense_9_loss: 0.4316 - val_dense_1_accuracy: 0.0103 - val_dense_3_accuracy: 0.8763 - val_dense_5_accuracy: 0.8402 - val_dense_7_accuracy: 0.8351 - val_dense_9_accuracy: 0.8660\n",
      "Epoch 9/20\n",
      "25/25 [==============================] - 13s 508ms/step - loss: 0.3364 - dense_1_loss: 0.0184 - dense_3_loss: 0.0466 - dense_5_loss: 0.0711 - dense_7_loss: 0.0948 - dense_9_loss: 0.1055 - dense_1_accuracy: 0.9936 - dense_3_accuracy: 0.9845 - dense_5_accuracy: 0.9832 - dense_7_accuracy: 0.9678 - dense_9_accuracy: 0.9691 - val_loss: 14.9180 - val_dense_1_loss: 12.7934 - val_dense_3_loss: 0.4926 - val_dense_5_loss: 0.6203 - val_dense_7_loss: 0.5997 - val_dense_9_loss: 0.4121 - val_dense_1_accuracy: 0.0103 - val_dense_3_accuracy: 0.8608 - val_dense_5_accuracy: 0.8247 - val_dense_7_accuracy: 0.8247 - val_dense_9_accuracy: 0.8608\n",
      "Epoch 10/20\n",
      "25/25 [==============================] - 13s 518ms/step - loss: 0.2977 - dense_1_loss: 0.0212 - dense_3_loss: 0.0398 - dense_5_loss: 0.0606 - dense_7_loss: 0.0747 - dense_9_loss: 0.1014 - dense_1_accuracy: 0.9884 - dense_3_accuracy: 0.9858 - dense_5_accuracy: 0.9845 - dense_7_accuracy: 0.9755 - dense_9_accuracy: 0.9639 - val_loss: 16.8061 - val_dense_1_loss: 14.6187 - val_dense_3_loss: 0.4434 - val_dense_5_loss: 0.6669 - val_dense_7_loss: 0.5835 - val_dense_9_loss: 0.4936 - val_dense_1_accuracy: 0.0052 - val_dense_3_accuracy: 0.9021 - val_dense_5_accuracy: 0.8196 - val_dense_7_accuracy: 0.8196 - val_dense_9_accuracy: 0.8557\n",
      "Epoch 11/20\n",
      "25/25 [==============================] - 13s 509ms/step - loss: 0.3245 - dense_1_loss: 0.0275 - dense_3_loss: 0.0373 - dense_5_loss: 0.0980 - dense_7_loss: 0.0731 - dense_9_loss: 0.0887 - dense_1_accuracy: 0.9897 - dense_3_accuracy: 0.9884 - dense_5_accuracy: 0.9639 - dense_7_accuracy: 0.9768 - dense_9_accuracy: 0.9742 - val_loss: 15.4569 - val_dense_1_loss: 12.8664 - val_dense_3_loss: 0.5449 - val_dense_5_loss: 0.7966 - val_dense_7_loss: 0.7771 - val_dense_9_loss: 0.4719 - val_dense_1_accuracy: 0.0206 - val_dense_3_accuracy: 0.8608 - val_dense_5_accuracy: 0.8041 - val_dense_7_accuracy: 0.8093 - val_dense_9_accuracy: 0.8660\n",
      "Epoch 12/20\n",
      "25/25 [==============================] - 13s 502ms/step - loss: 0.3624 - dense_1_loss: 0.0255 - dense_3_loss: 0.0560 - dense_5_loss: 0.0865 - dense_7_loss: 0.1039 - dense_9_loss: 0.0905 - dense_1_accuracy: 0.9910 - dense_3_accuracy: 0.9807 - dense_5_accuracy: 0.9704 - dense_7_accuracy: 0.9704 - dense_9_accuracy: 0.9691 - val_loss: 23.0037 - val_dense_1_loss: 19.3432 - val_dense_3_loss: 0.7096 - val_dense_5_loss: 1.3166 - val_dense_7_loss: 0.9831 - val_dense_9_loss: 0.6511 - val_dense_1_accuracy: 0.0000e+00 - val_dense_3_accuracy: 0.8505 - val_dense_5_accuracy: 0.7062 - val_dense_7_accuracy: 0.7629 - val_dense_9_accuracy: 0.8093\n",
      "Epoch 00012: early stopping\n"
     ]
    }
   ],
   "source": [
    "# Train the model\n",
    "hist = model.fit(X_train, [y_train[0], y_train[1], y_train[2], y_train[3], y_train[4]], \n",
    "                 batch_size=32, epochs=20, verbose=1, \n",
    "                 validation_split=0.2, callbacks=[es])"
   ]
  },
  {
   "cell_type": "code",
   "execution_count": 27,
   "id": "95f176ee",
   "metadata": {},
   "outputs": [
    {
     "name": "stdout",
     "output_type": "stream",
     "text": [
      "4/4 [==============================] - 0s 64ms/step - loss: 29.8298 - dense_1_loss: 27.1411 - dense_3_loss: 0.5180 - dense_5_loss: 0.8432 - dense_7_loss: 0.9294 - dense_9_loss: 0.3981 - dense_1_accuracy: 0.0000e+00 - dense_3_accuracy: 0.8400 - dense_5_accuracy: 0.7500 - dense_7_accuracy: 0.7600 - dense_9_accuracy: 0.9100\n",
      "Test loss and accuracy: [29.829811096191406, 27.1411190032959, 0.518017053604126, 0.8432175517082214, 0.929373025894165, 0.3980869650840759, 0.0, 0.8399999737739563, 0.75, 0.7599999904632568, 0.9100000262260437]\n"
     ]
    }
   ],
   "source": [
    "# Evaluate the model on the test set\n",
    "score = model.evaluate(X_test,[y_test[0], y_test[1], y_test[2], y_test[3], y_test[4]], verbose=1)\n",
    "print('Test loss and accuracy:', score)"
   ]
  },
  {
   "cell_type": "code",
   "execution_count": 28,
   "id": "9b958ec8",
   "metadata": {},
   "outputs": [],
   "source": [
    "# Define function to predict captcha\n",
    "def predict(filepath):\n",
    "    img = cv2.imread(filepath, cv2.IMREAD_GRAYSCALE)\n",
    "    if img is not None:\n",
    "        img = img / 255.0\n",
    "    else:\n",
    "        print(\"Image not detected\")\n",
    "        return None\n",
    "    res = np.array(model.predict(img[np.newaxis, :, :, np.newaxis]))\n",
    "    ans = np.reshape(res, (5, num_symbols))\n",
    "    captcha = \"\"\n",
    "    for i in range(5):\n",
    "        captcha += symbols[np.argmax(ans[i])]\n",
    "    return captcha"
   ]
  },
  {
   "cell_type": "code",
   "execution_count": 29,
   "id": "470f9db8",
   "metadata": {},
   "outputs": [],
   "source": [
    "import matplotlib.pyplot as plt\n",
    "\n",
    "filepath = \"captha_predict/predict.png\"\n",
    "\n",
    "def plot_predicted_sample(filepath):\n",
    "    # Predict captcha\n",
    "    captcha = predict(filepath)\n",
    "\n",
    "    # Load image\n",
    "    img = cv2.imread(filepath)\n",
    "\n",
    "    # Plot image and predicted captcha\n",
    "    fig, ax = plt.subplots()\n",
    "    ax.imshow(img)\n",
    "    ax.set_title(f\"Predicted Captcha: {captcha}\")\n",
    "    plt.show()"
   ]
  },
  {
   "cell_type": "code",
   "execution_count": 31,
   "id": "7ed05058",
   "metadata": {},
   "outputs": [
    {
     "data": {
      "image/png": "[encoded data removed]",
      "text/plain": [
       "<Figure size 432x288 with 1 Axes>"
      ]
     },
     "metadata": {
      "needs_background": "light"
     },
     "output_type": "display_data"
    }
   ],
   "source": [
    "plot_predicted_sample(\"captha_predict/predict.png\")"
   ]
  },
  {
   "cell_type": "code",
   "execution_count": null,
   "id": "962c1bd2",
   "metadata": {},
   "outputs": [],
   "source": []
  }
 ],
 "metadata": {
  "kernelspec": {
   "display_name": "Python 3 (ipykernel)",
   "language": "python",
   "name": "python3"
  },
  "language_info": {
   "codemirror_mode": {
    "name": "ipython",
    "version": 3
   },
   "file_extension": ".py",
   "mimetype": "text/x-python",
   "name": "python",
   "nbconvert_exporter": "python",
   "pygments_lexer": "ipython3",
   "version": "3.8.12"
  }
 },
 "nbformat": 4,
 "nbformat_minor": 5
}
